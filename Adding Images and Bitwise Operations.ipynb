{
 "cells": [
  {
   "cell_type": "code",
   "execution_count": 10,
   "metadata": {},
   "outputs": [],
   "source": [
    "import cv2\n",
    "import numpy as np"
   ]
  },
  {
   "cell_type": "markdown",
   "metadata": {},
   "source": [
    "## Displaying the two images "
   ]
  },
  {
   "cell_type": "code",
   "execution_count": 11,
   "metadata": {},
   "outputs": [],
   "source": [
    "# Displaying image 1 and image 2\n",
    "\n",
    "img1 = cv2.imread(\"op1.png\")\n",
    "img2 = cv2.imread(\"op2.png\")\n",
    "cv2.imshow(\"Image1\", img1)\n",
    "cv2.imshow(\"Image2\", img2)\n",
    "cv2.waitKey(0)\n",
    "cv2.destroyAllWindows()"
   ]
  },
  {
   "cell_type": "markdown",
   "metadata": {},
   "source": [
    "## Adding the two images using '+' operator"
   ]
  },
  {
   "cell_type": "code",
   "execution_count": 12,
   "metadata": {},
   "outputs": [],
   "source": [
    "# When adding two images we get values between 255...after 255 it starts again from 0\n",
    "\n",
    "# 255 ---> It is complete white\n",
    "# 0 ---> It is complete black\n",
    "\n",
    "img3 = img1 + img2\n",
    "cv2.imshow(\"Image3\", img3)\n",
    "cv2.waitKey(0)\n",
    "cv2.destroyAllWindows()"
   ]
  },
  {
   "cell_type": "markdown",
   "metadata": {},
   "source": [
    "## Using the cv2.add() function "
   ]
  },
  {
   "cell_type": "code",
   "execution_count": 13,
   "metadata": {},
   "outputs": [],
   "source": [
    "# Make sure both the dimensions match  (If the pixel size of the addition reaches 255, it remains 255)\n",
    "\n",
    "img4 = cv2.add(img1, img2)   # When the images are added the pixels are stopped at 255\n",
    "cv2.imshow('Image4', img4)\n",
    "cv2.waitKey(0)\n",
    "cv2.destroyAllWindows()"
   ]
  },
  {
   "cell_type": "markdown",
   "metadata": {},
   "source": [
    "## Applying Bitwise operations on the images"
   ]
  },
  {
   "cell_type": "code",
   "execution_count": 25,
   "metadata": {},
   "outputs": [],
   "source": [
    "# The pixel values are converted into binary and those on those values we apply the bitwise 'AND' or \"OR\"\n",
    "\n",
    "# 0 ---> It is off\n",
    "# 1 and above ---> It is on\n",
    "\n",
    "img5 = cv2.bitwise_and(img1, img2)\n",
    "img6 = cv2.bitwise_or(img1, img2)\n",
    "img7 = cv2.bitwise_not(img1)\n",
    "cv2.imshow('And', img5)\n",
    "cv2.imshow('Or', img6)\n",
    "cv2.imshow(\"Not\", img7)\n",
    "cv2.waitKey(0)\n",
    "cv2.destroyAllWindows()"
   ]
  }
 ],
 "metadata": {
  "kernelspec": {
   "display_name": "Python 3",
   "language": "python",
   "name": "python3"
  },
  "language_info": {
   "codemirror_mode": {
    "name": "ipython",
    "version": 3
   },
   "file_extension": ".py",
   "mimetype": "text/x-python",
   "name": "python",
   "nbconvert_exporter": "python",
   "pygments_lexer": "ipython3",
   "version": "3.7.3"
  }
 },
 "nbformat": 4,
 "nbformat_minor": 2
}
