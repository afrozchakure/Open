{
 "cells": [
  {
   "cell_type": "code",
   "execution_count": 1,
   "metadata": {},
   "outputs": [],
   "source": [
    "import numpy as np\n",
    "import cv2"
   ]
  },
  {
   "cell_type": "code",
   "execution_count": 2,
   "metadata": {},
   "outputs": [],
   "source": [
    "# Including an xml file\n",
    "face = cv2.CascadeClassifier(\"haarcascade_frontalface_default.xml\")"
   ]
  },
  {
   "cell_type": "code",
   "execution_count": 11,
   "metadata": {},
   "outputs": [],
   "source": [
    "\n",
    "eye = cv2.CascadeClassifier('haarcascade_eye.xml')\n",
    "smile = cv2.CascadeClassifier('haarcascade_smile.xml')"
   ]
  },
  {
   "cell_type": "code",
   "execution_count": 12,
   "metadata": {},
   "outputs": [],
   "source": [
    "# Code to display the video through the internal webcam\n",
    "\n",
    "cap = cv2.VideoCapture(0)  # To use the internal camera\n",
    "while True:\n",
    "    _, frame = cap.read()   # To read the frame\n",
    "    \n",
    "    gray = cv2.cvtColor(frame, cv2.COLOR_BGR2GRAY)\n",
    "    faces = faceT.detectMultiScale(gray, 1.1, 3)  # It will detect all the faces (coordinates) in the frame and appends it to the face variable\n",
    "    for x, y, w, h in faces:\n",
    "        \n",
    "        cv2.rectangle(frame, (x, y), (x+w, y+h), (0, 0, 255), 3)  # It draws a rectangle outline ora filled rectangle which opposite corners pt1, pt2\n",
    "        \n",
    "        face_roi = frame[y: y+h, x: x+w]  # Here y comes first then x because it is a 2-d matrix (y as rows and x as columns)\n",
    "        gray_roi = gray[y:y+h, x: x+w]\n",
    "        eyes = eye.detectMultiScale(gray_roi, 1.1, 3)\n",
    "        \n",
    "        for x1, y1, w1, h1 in eyes:\n",
    "            cv2.rectangle(face_roi, (x1, y1), (x1+w1, y1+h1), (255, 0 , 0), 3)\n",
    "        \n",
    "    cv2.imshow(\"video1\", frame)\n",
    "    if cv2.waitKey(1) & 0XFF == ord('q'):\n",
    "        break\n",
    "\n",
    "cap.release()   # To release the resources\n",
    "cv2.destroyAllWindows()   # Destroying the windows"
   ]
  },
  {
   "cell_type": "code",
   "execution_count": 9,
   "metadata": {},
   "outputs": [],
   "source": [
    "# A - B - C + D\n"
   ]
  },
  {
   "cell_type": "code",
   "execution_count": null,
   "metadata": {},
   "outputs": [],
   "source": [
    "# Hackathon\n",
    "\n",
    "# 2-3 domains\n",
    "# Team of 2\n",
    "# Idea Presentation (implementation)  (4-5 slides presentation) (5 minutes)\n",
    "# Make a working prototype if possible (7th Septemer 2019 )\n",
    "# (5 to 7 hours)"
   ]
  }
 ],
 "metadata": {
  "kernelspec": {
   "display_name": "Python 3",
   "language": "python",
   "name": "python3"
  },
  "language_info": {
   "codemirror_mode": {
    "name": "ipython",
    "version": 3
   },
   "file_extension": ".py",
   "mimetype": "text/x-python",
   "name": "python",
   "nbconvert_exporter": "python",
   "pygments_lexer": "ipython3",
   "version": "3.7.3"
  }
 },
 "nbformat": 4,
 "nbformat_minor": 2
}
