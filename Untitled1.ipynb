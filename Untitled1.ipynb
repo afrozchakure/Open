{
 "cells": [
  {
   "cell_type": "code",
   "execution_count": 12,
   "metadata": {},
   "outputs": [],
   "source": [
    "import cv2\n",
    "import numpy as np"
   ]
  },
  {
   "cell_type": "code",
   "execution_count": 13,
   "metadata": {
    "code_folding": []
   },
   "outputs": [],
   "source": [
    "cap = cv2.VideoCapture(0)\n",
    "fgbg = cv2.createBackgroundSubtractorKNN()\n",
    "while True:\n",
    "    _, frame = cap.read()\n",
    "    mask = fgbg.apply(frame)\n",
    "    cv2.imshow('Ori', mask)\n",
    "    if cv2.waitKey(1)  & 0xFF == ord('q'):\n",
    "        break\n",
    "        \n",
    "cap.release()\n",
    "cv2.destroyAllWindows()"
   ]
  },
  {
   "cell_type": "code",
   "execution_count": 16,
   "metadata": {},
   "outputs": [],
   "source": [
    "\n",
    "\n",
    "# Let's get the stream first....\n",
    "cap = cv2.VideoCapture(0)\n",
    "\n",
    "# Get the first frame\n",
    "_, first_frame = cap.read()\n",
    "\n",
    "# Make an object for the background subtraction job.....\n",
    "fgbg = cv2.createBackgroundSubtractorKNN()   # Used to subtract the background and apply masking\n",
    "\n",
    "while True:\n",
    "    _, frame = cap.read()\n",
    "    \n",
    "    # Making the mask   (B = Background, A = Object)\n",
    "    mask = fgbg.apply(frame)   # [B A B]\n",
    "    mask = cv2.dilate(mask, None)\n",
    "    replace = cv2.bitwise_and(first_frame, first_frame, mask = mask)\n",
    "    \n",
    "    # Now remove the mask stuff\n",
    "    mask = cv2.bitwise_not(mask)\n",
    "    frame = cv2.bitwise_and(frame,frame, mask = mask)\n",
    "    frame = cv2.add(frame, replace)\n",
    "    \n",
    "    cv2.imshow(\"Video\", frame)\n",
    "    \n",
    "    if cv2.waitKey(1) & 0xFF == ord('q'):\n",
    "        break\n",
    "\n",
    "cap.release()\n",
    "cv2.destroyAllWindows()"
   ]
  },
  {
   "cell_type": "code",
   "execution_count": null,
   "metadata": {},
   "outputs": [],
   "source": []
  }
 ],
 "metadata": {
  "kernelspec": {
   "display_name": "Python 3",
   "language": "python",
   "name": "python3"
  },
  "language_info": {
   "codemirror_mode": {
    "name": "ipython",
    "version": 3
   },
   "file_extension": ".py",
   "mimetype": "text/x-python",
   "name": "python",
   "nbconvert_exporter": "python",
   "pygments_lexer": "ipython3",
   "version": "3.7.3"
  }
 },
 "nbformat": 4,
 "nbformat_minor": 2
}
